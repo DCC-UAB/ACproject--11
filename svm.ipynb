{
 "cells": [
  {
   "cell_type": "code",
   "execution_count": 1,
   "metadata": {},
   "outputs": [],
   "source": [
    "from sklearn.model_selection import train_test_split, GridSearchCV\n",
    "from sklearn.preprocessing import StandardScaler\n",
    "from sklearn.svm import SVC\n",
    "import matplotlib.pyplot as plt\n",
    "from dataloader_module import load_data\n",
    "from metrics_module import metrics\n",
    "import pandas as pd\n",
    "import numpy as np"
   ]
  },
  {
   "cell_type": "markdown",
   "metadata": {},
   "source": [
    "## Càrrega i pre-processament de les dades"
   ]
  },
  {
   "cell_type": "code",
   "execution_count": 2,
   "metadata": {},
   "outputs": [],
   "source": [
    "datafile = \"data/healthcare-dataset-stroke-data.csv\"\n",
    "\n",
    "X, y = load_data(datafile)\n",
    "X_train, X_test, y_train, y_test = train_test_split(X, y, test_size=0.2, random_state=42)"
   ]
  },
  {
   "cell_type": "markdown",
   "metadata": {},
   "source": [
    "## Normalització i búsqueda dels millors paràmetres per SVM amb GridSearch"
   ]
  },
  {
   "cell_type": "code",
   "execution_count": null,
   "metadata": {},
   "outputs": [],
   "source": [
    "svm = SVC()\n",
    "param_grid = {\n",
    "    'C': [0.1, 20, 100], \n",
    "    'kernel': ['linear', 'rbf'], \n",
    "    'gamma': [1, 0.1, 0.01] \n",
    "}\n",
    "\n",
    "grid_search = GridSearchCV(estimator=svm, param_grid=param_grid, cv=5, scoring='accuracy')\n",
    "grid_search.fit(X_train, y_train)\n",
    "\n",
    "print(\"Best Parameters:\", grid_search.best_params_)\n",
    "print(\"Best Cross-Validation Score:\", grid_search.best_score_)"
   ]
  },
  {
   "cell_type": "markdown",
   "metadata": {},
   "source": [
    "## Aplicació dels millors paràmetres al model"
   ]
  },
  {
   "cell_type": "code",
   "execution_count": null,
   "metadata": {},
   "outputs": [
    {
     "name": "stdout",
     "output_type": "stream",
     "text": [
      "Accuracy: 0.9654\n",
      "Precision: 0.9515\n",
      "Recall: 0.9823\n",
      "F1 Score: 0.9666\n"
     ]
    },
    {
     "data": {
      "image/png": "[encoded data removed]",
      "text/plain": [
       "<Figure size 500x500 with 2 Axes>"
      ]
     },
     "metadata": {},
     "output_type": "display_data"
    }
   ],
   "source": [
    "\n",
    "svm = grid_search.best_estimator_\n",
    "y_pred = svm.predict(X_test)\n",
    "\n",
    "np.save('predictions/predictions_svm.npy', y_pred)\n",
    "\n",
    "accuracy, precision, recall, f1, conf_matrix = metrics(y_test, y_pred, print_metrics=True)"
   ]
  },
  {
   "cell_type": "code",
   "execution_count": null,
   "metadata": {},
   "outputs": [
    {
     "name": "stdout",
     "output_type": "stream",
     "text": [
      "La importància de les característiques només es pot mostrar per a un kernel lineal.\n"
     ]
    }
   ],
   "source": [
    "# Obtenir els coeficients del model SVM amb kernel lineal\n",
    "if grid_search.best_params_['kernel'] == 'linear':\n",
    "    feature_importances = grid_search.best_estimator_.coef_[0]\n",
    "    \n",
    "    # Crear un DataFrame amb les característiques i les seves importàncies\n",
    "    feature_importances_df = pd.DataFrame({\n",
    "        'Feature': X.columns,\n",
    "        'Importance': feature_importances\n",
    "    })\n",
    "    \n",
    "    # Ordenar el DataFrame per importància\n",
    "    feature_importances_df = feature_importances_df.sort_values(by='Importance', ascending=False)\n",
    "    \n",
    "    # Visualitzar les importàncies en un gràfic de barres\n",
    "    plt.figure(figsize=(10, 8))\n",
    "    plt.barh(feature_importances_df['Feature'], feature_importances_df['Importance'])\n",
    "    plt.xlabel('Importància')\n",
    "    plt.ylabel('Característica')\n",
    "    plt.title('Importància de les característiques en el SVM')\n",
    "    plt.gca().invert_yaxis()\n",
    "    plt.show()\n",
    "else:\n",
    "    print(\"La importància de les característiques només es pot mostrar per a un kernel lineal.\")"
   ]
  }
 ],
 "metadata": {
  "kernelspec": {
   "display_name": "Python 3",
   "language": "python",
   "name": "python3"
  },
  "language_info": {
   "codemirror_mode": {
    "name": "ipython",
    "version": 3
   },
   "file_extension": ".py",
   "mimetype": "text/x-python",
   "name": "python",
   "nbconvert_exporter": "python",
   "pygments_lexer": "ipython3",
   "version": "3.13.0"
  }
 },
 "nbformat": 4,
 "nbformat_minor": 2
}
