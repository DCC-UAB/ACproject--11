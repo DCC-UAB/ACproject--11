{
 "cells": [
  {
   "cell_type": "code",
   "execution_count": 1,
   "id": "c9875b8a",
   "metadata": {},
   "outputs": [],
   "source": [
    "import os\n",
    "import numpy as np\n",
    "import matplotlib.pyplot as plt"
   ]
  },
  {
   "cell_type": "markdown",
   "id": "3b102d30",
   "metadata": {},
   "source": [
    "## ROC Curve i AUC"
   ]
  },
  {
   "cell_type": "code",
   "execution_count": null,
   "id": "38aaeafc",
   "metadata": {},
   "outputs": [],
   "source": [
    "output_dir=\"ROC_Data\"):\n",
    "    \"\"\"\n",
    "    Visualitza totes les ROC curves i AUC de la carpeta especificada.\n",
    "\n",
    "    Paràmetres:\n",
    "    - output_dir: Carpeta on es troben les ROC curves.\n",
    "    \"\"\"\n",
    "    if not os.path.exists(output_dir):\n",
    "        print(\"La carpeta no existeix\")\n",
    "        return\n",
    "\n",
    "    # Buscar los archivos correspondientes a FPR y TPR de cada modelo\n",
    "    roc_files = [f for f in os.listdir(output_dir) if f.endswith('_fpr.npy')]\n",
    "    if not roc_files:\n",
    "        print(\"No s'han trobat.\")\n",
    "        return\n",
    "\n",
    "    plt.figure(figsize=(12, 8))\n",
    "    for roc_file in roc_files:\n",
    "        #Nom del model \n",
    "        model_name = roc_file.replace('_fpr.npy', '')\n",
    "\n",
    "        #Carregar les dades\n",
    "        fpr = np.load(os.path.join(output_dir, f\"{model_name}_fpr.npy\"))\n",
    "        tpr = np.load(os.path.join(output_dir, f\"{model_name}_tpr.npy\"))\n",
    "        auc = np.load(os.path.join(output_dir, f\"{model_name}_auc.npy\"))[0]\n",
    "\n",
    "        #Afegir la corba al gràfic\n",
    "        plt.plot(fpr, tpr, label=f\"{model_name} (AUC = {auc:.2f})\")\n",
    "\n",
    "    #Afegir la línea aleatòria\n",
    "    plt.plot([0, 1], [0, 1], color='red', linestyle='--', label='Random Guess')\n",
    "\n",
    "    plt.title('Comparación de Curvas ROC')\n",
    "    plt.xlabel('False Positive Rate (FPR)')\n",
    "    plt.ylabel('True Positive Rate (TPR)')\n",
    "    plt.legend(loc='lower right')\n",
    "    plt.grid()\n",
    "    plt.tight_layout()\n",
    "\n",
    "    plt.show()\n"
   ]
  }
 ],
 "metadata": {
  "kernelspec": {
   "display_name": "Python 3 (ipykernel)",
   "language": "python",
   "name": "python3"
  },
  "language_info": {
   "codemirror_mode": {
    "name": "ipython",
    "version": 3
   },
   "file_extension": ".py",
   "mimetype": "text/x-python",
   "name": "python",
   "nbconvert_exporter": "python",
   "pygments_lexer": "ipython3",
   "version": "3.9.13"
  }
 },
 "nbformat": 4,
 "nbformat_minor": 5
}
